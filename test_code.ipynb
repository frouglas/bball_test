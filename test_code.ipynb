{
 "cells": [
  {
   "cell_type": "code",
   "execution_count": 32,
   "metadata": {
    "collapsed": true
   },
   "outputs": [],
   "source": [
    "import numpy as np\n",
    "import pandas as pd\n",
    "import math\n",
    "import os\n",
    "import pickle\n",
    "import importlib as il\n",
    "\n",
    "\n",
    "\n",
    "funcModule = \"data_structure\"\n",
    "ds = il.import_module(funcModule)\n",
    "\n",
    "playerDB = {}"
   ]
  },
  {
   "cell_type": "code",
   "execution_count": 33,
   "metadata": {},
   "outputs": [],
   "source": [
    "if os.path.exists(\"gameLogs.csv\"):\n",
    "    rawData = pd.read_csv(\"gameLogs.csv\")\n",
    "else:\n",
    "    print(\"no such file found\")\n",
    "    \n",
    "if os.path.exists(\"team_dict.csv\"):\n",
    "    teamDB = pd.read_csv(\"team_dict.csv\")\n",
    "else:\n",
    "    print(\"no such file found\")\n",
    "\n",
    "teamDB.set_index(\"City Name\", drop=True, inplace=True)\n",
    "\n",
    "team_dict = teamDB['NBA.com Abbreviation'].to_dict()"
   ]
  },
  {
   "cell_type": "code",
   "execution_count": 34,
   "metadata": {},
   "outputs": [
    {
     "data": {
      "text/html": [
       "<div>\n",
       "<style>\n",
       "    .dataframe thead tr:only-child th {\n",
       "        text-align: right;\n",
       "    }\n",
       "\n",
       "    .dataframe thead th {\n",
       "        text-align: left;\n",
       "    }\n",
       "\n",
       "    .dataframe tbody tr th {\n",
       "        vertical-align: top;\n",
       "    }\n",
       "</style>\n",
       "<table border=\"1\" class=\"dataframe\">\n",
       "  <thead>\n",
       "    <tr style=\"text-align: right;\">\n",
       "      <th></th>\n",
       "      <th>DATA_SET</th>\n",
       "      <th>DATE</th>\n",
       "      <th>PLAYER_FULL_NAME</th>\n",
       "      <th>POSITION</th>\n",
       "      <th>OWN_TEAM</th>\n",
       "      <th>OPP_TEAM</th>\n",
       "      <th>VENUE</th>\n",
       "      <th>MIN</th>\n",
       "      <th>FG</th>\n",
       "      <th>FGA</th>\n",
       "      <th>...</th>\n",
       "      <th>A</th>\n",
       "      <th>PF</th>\n",
       "      <th>ST</th>\n",
       "      <th>TO</th>\n",
       "      <th>BL</th>\n",
       "      <th>PTS</th>\n",
       "      <th>own_team</th>\n",
       "      <th>home_team</th>\n",
       "      <th>away_team</th>\n",
       "      <th>game_id</th>\n",
       "    </tr>\n",
       "  </thead>\n",
       "  <tbody>\n",
       "    <tr>\n",
       "      <th>0</th>\n",
       "      <td>2016-2017 Regular Season</td>\n",
       "      <td>10.25.16</td>\n",
       "      <td>Carmelo Anthony</td>\n",
       "      <td>SF</td>\n",
       "      <td>New York</td>\n",
       "      <td>Cleveland</td>\n",
       "      <td>R</td>\n",
       "      <td>30.1</td>\n",
       "      <td>8</td>\n",
       "      <td>18</td>\n",
       "      <td>...</td>\n",
       "      <td>3</td>\n",
       "      <td>5</td>\n",
       "      <td>1</td>\n",
       "      <td>4</td>\n",
       "      <td>0</td>\n",
       "      <td>19</td>\n",
       "      <td>NYK</td>\n",
       "      <td>CLE</td>\n",
       "      <td>NYK</td>\n",
       "      <td>10.25.16#CLE#NYK</td>\n",
       "    </tr>\n",
       "    <tr>\n",
       "      <th>1</th>\n",
       "      <td>2016-2017 Regular Season</td>\n",
       "      <td>10.25.16</td>\n",
       "      <td>Kristaps Porzingis</td>\n",
       "      <td>PF</td>\n",
       "      <td>New York</td>\n",
       "      <td>Cleveland</td>\n",
       "      <td>R</td>\n",
       "      <td>32.8</td>\n",
       "      <td>5</td>\n",
       "      <td>13</td>\n",
       "      <td>...</td>\n",
       "      <td>0</td>\n",
       "      <td>5</td>\n",
       "      <td>1</td>\n",
       "      <td>2</td>\n",
       "      <td>2</td>\n",
       "      <td>16</td>\n",
       "      <td>NYK</td>\n",
       "      <td>CLE</td>\n",
       "      <td>NYK</td>\n",
       "      <td>10.25.16#CLE#NYK</td>\n",
       "    </tr>\n",
       "  </tbody>\n",
       "</table>\n",
       "<p>2 rows × 27 columns</p>\n",
       "</div>"
      ],
      "text/plain": [
       "                   DATA_SET      DATE    PLAYER_FULL_NAME POSITION  OWN_TEAM  \\\n",
       "0  2016-2017 Regular Season  10.25.16     Carmelo Anthony       SF  New York   \n",
       "1  2016-2017 Regular Season  10.25.16  Kristaps Porzingis       PF  New York   \n",
       "\n",
       "    OPP_TEAM VENUE   MIN  FG  FGA        ...         A  PF  ST  TO  BL  PTS  \\\n",
       "0  Cleveland     R  30.1   8   18        ...         3   5   1   4   0   19   \n",
       "1  Cleveland     R  32.8   5   13        ...         0   5   1   2   2   16   \n",
       "\n",
       "   own_team  home_team  away_team           game_id  \n",
       "0       NYK        CLE        NYK  10.25.16#CLE#NYK  \n",
       "1       NYK        CLE        NYK  10.25.16#CLE#NYK  \n",
       "\n",
       "[2 rows x 27 columns]"
      ]
     },
     "execution_count": 34,
     "metadata": {},
     "output_type": "execute_result"
    }
   ],
   "source": [
    "colNames = list(rawData.columns.values)\n",
    "\n",
    "i = 0\n",
    "\n",
    "for i in range(len(colNames)):\n",
    "    colNames[i] = colNames[i].replace(\" \",\"_\")\n",
    "\n",
    "colNames[6] = 'VENUE'\n",
    "    \n",
    "rawData.columns = colNames\n",
    "\n",
    "own_vals = [team_dict[x] for x in rawData[\"OWN_TEAM\"]]\n",
    "opp_vals = [team_dict[x] for x in rawData[\"OPP_TEAM\"]]\n",
    "home = [(x=='H') for x in rawData[\"VENUE\"]]\n",
    "date = [x for x in rawData[\"DATE\"]]\n",
    "\n",
    "home_tm = []\n",
    "away_tm = []\n",
    "game_code = []\n",
    "\n",
    "for i in range(len(own_vals)):\n",
    "    if home[i]:\n",
    "        home_tm.append(own_vals[i])\n",
    "        away_tm.append(opp_vals[i])\n",
    "    else:\n",
    "        home_tm.append(opp_vals[i])\n",
    "        away_tm.append(own_vals[i])\n",
    "    game_code.append(date[0] + \"#\" + home_tm[i] + \"#\" + away_tm[i])\n",
    "\n",
    "rawData = rawData.assign(own_team = own_vals)\n",
    "rawData = rawData.assign(home_team=home_tm)\n",
    "rawData = rawData.assign(away_team=away_tm)\n",
    "rawData = rawData.assign(game_id = game_code)\n",
    "\n",
    "rawData.iloc[:2]"
   ]
  },
  {
   "cell_type": "code",
   "execution_count": 36,
   "metadata": {},
   "outputs": [
    {
     "data": {
      "text/plain": [
       "1"
      ]
     },
     "execution_count": 36,
     "metadata": {},
     "output_type": "execute_result"
    }
   ],
   "source": [
    "playerCounter = 1\n",
    "\n",
    "for eachName in rawData['PLAYER_FULL_NAME'].unique():\n",
    "    playerDB[eachName] = ds.player({'name':eachName,'playerID':playerCounter})\n",
    "    playerCounter += 1\n",
    "\n",
    "playerDB[rawData[\"PLAYER_FULL_NAME\"][0]].playerID"
   ]
  },
  {
   "cell_type": "code",
   "execution_count": 41,
   "metadata": {},
   "outputs": [
    {
     "name": "stdout",
     "output_type": "stream",
     "text": [
      "10.25.16#CLE#NYK\n",
      "10.25.16#CLE#NYK\n",
      "10.25.16#CLE#NYK\n"
     ]
    }
   ],
   "source": [
    "checkPt = 2\n",
    "i = 0\n",
    "\n",
    "for eachEntry in rawData.itertuples():\n",
    "    print(eachEntry.game_id)\n",
    "    # playerDB[eachEntry['PLAYER_FULL_NAME']].\n",
    "    if i == checkPt:\n",
    "        break\n",
    "    else:\n",
    "        i += 1"
   ]
  },
  {
   "cell_type": "code",
   "execution_count": null,
   "metadata": {
    "collapsed": true
   },
   "outputs": [],
   "source": []
  }
 ],
 "metadata": {
  "kernelspec": {
   "display_name": "Python 3",
   "language": "python",
   "name": "python3"
  },
  "language_info": {
   "codemirror_mode": {
    "name": "ipython",
    "version": 3
   },
   "file_extension": ".py",
   "mimetype": "text/x-python",
   "name": "python",
   "nbconvert_exporter": "python",
   "pygments_lexer": "ipython3",
   "version": "3.6.3"
  }
 },
 "nbformat": 4,
 "nbformat_minor": 2
}
